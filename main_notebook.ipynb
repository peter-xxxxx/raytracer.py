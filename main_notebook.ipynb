{
 "cells": [
  {
   "cell_type": "code",
   "execution_count": 1,
   "metadata": {},
   "outputs": [
    {
     "name": "stdout",
     "output_type": "stream",
     "text": [
      "123\n",
      "hello world\n"
     ]
    }
   ],
   "source": [
    "print '123'\n",
    "print 'hello world'\n",
    "\n",
    "%load_ext autoreload\n",
    "%autoreload 2\n",
    "\n",
    "import pycuda.autoinit"
   ]
  },
  {
   "cell_type": "code",
   "execution_count": 6,
   "metadata": {},
   "outputs": [
    {
     "ename": "LaunchError",
     "evalue": "cuMemAlloc failed: unspecified launch failure",
     "output_type": "error",
     "traceback": [
      "\u001b[1;31m---------------------------------------------------------------------------\u001b[0m",
      "\u001b[1;31mLaunchError\u001b[0m                               Traceback (most recent call last)",
      "\u001b[1;32m<ipython-input-6-268da3d4180a>\u001b[0m in \u001b[0;36m<module>\u001b[1;34m()\u001b[0m\n\u001b[0;32m    110\u001b[0m \u001b[1;33m\u001b[0m\u001b[0m\n\u001b[0;32m    111\u001b[0m \u001b[1;31m# transfer host (CPU) memory to device (GPU) memory\u001b[0m\u001b[1;33m\u001b[0m\u001b[1;33m\u001b[0m\u001b[0m\n\u001b[1;32m--> 112\u001b[1;33m \u001b[0ma_gpu\u001b[0m \u001b[1;33m=\u001b[0m \u001b[0mgpuarray\u001b[0m\u001b[1;33m.\u001b[0m\u001b[0mto_gpu\u001b[0m\u001b[1;33m(\u001b[0m\u001b[0ma_cpu\u001b[0m\u001b[1;33m)\u001b[0m\u001b[1;33m\u001b[0m\u001b[0m\n\u001b[0m\u001b[0;32m    113\u001b[0m \u001b[0mb_gpu\u001b[0m \u001b[1;33m=\u001b[0m \u001b[0mgpuarray\u001b[0m\u001b[1;33m.\u001b[0m\u001b[0mto_gpu\u001b[0m\u001b[1;33m(\u001b[0m\u001b[0mb_cpu\u001b[0m\u001b[1;33m)\u001b[0m\u001b[1;33m\u001b[0m\u001b[0m\n\u001b[0;32m    114\u001b[0m \u001b[1;33m\u001b[0m\u001b[0m\n",
      "\u001b[1;32mD:\\Anaconda\\envs\\hetero\\lib\\site-packages\\pycuda\\gpuarray.pyc\u001b[0m in \u001b[0;36mto_gpu\u001b[1;34m(ary, allocator)\u001b[0m\n\u001b[0;32m   1047\u001b[0m \u001b[1;32mdef\u001b[0m \u001b[0mto_gpu\u001b[0m\u001b[1;33m(\u001b[0m\u001b[0mary\u001b[0m\u001b[1;33m,\u001b[0m \u001b[0mallocator\u001b[0m\u001b[1;33m=\u001b[0m\u001b[0mdrv\u001b[0m\u001b[1;33m.\u001b[0m\u001b[0mmem_alloc\u001b[0m\u001b[1;33m)\u001b[0m\u001b[1;33m:\u001b[0m\u001b[1;33m\u001b[0m\u001b[0m\n\u001b[0;32m   1048\u001b[0m     \u001b[1;34m\"\"\"converts a numpy array to a GPUArray\"\"\"\u001b[0m\u001b[1;33m\u001b[0m\u001b[0m\n\u001b[1;32m-> 1049\u001b[1;33m     \u001b[0mresult\u001b[0m \u001b[1;33m=\u001b[0m \u001b[0mGPUArray\u001b[0m\u001b[1;33m(\u001b[0m\u001b[0mary\u001b[0m\u001b[1;33m.\u001b[0m\u001b[0mshape\u001b[0m\u001b[1;33m,\u001b[0m \u001b[0mary\u001b[0m\u001b[1;33m.\u001b[0m\u001b[0mdtype\u001b[0m\u001b[1;33m,\u001b[0m \u001b[0mallocator\u001b[0m\u001b[1;33m,\u001b[0m \u001b[0mstrides\u001b[0m\u001b[1;33m=\u001b[0m\u001b[0m_compact_strides\u001b[0m\u001b[1;33m(\u001b[0m\u001b[0mary\u001b[0m\u001b[1;33m)\u001b[0m\u001b[1;33m)\u001b[0m\u001b[1;33m\u001b[0m\u001b[0m\n\u001b[0m\u001b[0;32m   1050\u001b[0m     \u001b[0mresult\u001b[0m\u001b[1;33m.\u001b[0m\u001b[0mset\u001b[0m\u001b[1;33m(\u001b[0m\u001b[0mary\u001b[0m\u001b[1;33m)\u001b[0m\u001b[1;33m\u001b[0m\u001b[0m\n\u001b[0;32m   1051\u001b[0m     \u001b[1;32mreturn\u001b[0m \u001b[0mresult\u001b[0m\u001b[1;33m\u001b[0m\u001b[0m\n",
      "\u001b[1;32mD:\\Anaconda\\envs\\hetero\\lib\\site-packages\\pycuda\\gpuarray.pyc\u001b[0m in \u001b[0;36m__init__\u001b[1;34m(self, shape, dtype, allocator, base, gpudata, strides, order)\u001b[0m\n\u001b[0;32m    208\u001b[0m         \u001b[1;32mif\u001b[0m \u001b[0mgpudata\u001b[0m \u001b[1;32mis\u001b[0m \u001b[0mNone\u001b[0m\u001b[1;33m:\u001b[0m\u001b[1;33m\u001b[0m\u001b[0m\n\u001b[0;32m    209\u001b[0m             \u001b[1;32mif\u001b[0m \u001b[0mself\u001b[0m\u001b[1;33m.\u001b[0m\u001b[0msize\u001b[0m\u001b[1;33m:\u001b[0m\u001b[1;33m\u001b[0m\u001b[0m\n\u001b[1;32m--> 210\u001b[1;33m                 \u001b[0mself\u001b[0m\u001b[1;33m.\u001b[0m\u001b[0mgpudata\u001b[0m \u001b[1;33m=\u001b[0m \u001b[0mself\u001b[0m\u001b[1;33m.\u001b[0m\u001b[0mallocator\u001b[0m\u001b[1;33m(\u001b[0m\u001b[0mself\u001b[0m\u001b[1;33m.\u001b[0m\u001b[0msize\u001b[0m \u001b[1;33m*\u001b[0m \u001b[0mself\u001b[0m\u001b[1;33m.\u001b[0m\u001b[0mdtype\u001b[0m\u001b[1;33m.\u001b[0m\u001b[0mitemsize\u001b[0m\u001b[1;33m)\u001b[0m\u001b[1;33m\u001b[0m\u001b[0m\n\u001b[0m\u001b[0;32m    211\u001b[0m             \u001b[1;32melse\u001b[0m\u001b[1;33m:\u001b[0m\u001b[1;33m\u001b[0m\u001b[0m\n\u001b[0;32m    212\u001b[0m                 \u001b[0mself\u001b[0m\u001b[1;33m.\u001b[0m\u001b[0mgpudata\u001b[0m \u001b[1;33m=\u001b[0m \u001b[0mNone\u001b[0m\u001b[1;33m\u001b[0m\u001b[0m\n",
      "\u001b[1;31mLaunchError\u001b[0m: cuMemAlloc failed: unspecified launch failure"
     ]
    }
   ],
   "source": [
    "\n",
    "\n",
    "\"\"\"\n",
    "Multiplies two square matrices together using a *single* block of threads and\n",
    "global memory only. Each thread computes one element of the resulting matrix.\n",
    "\"\"\"\n",
    "\n",
    "import numpy as np\n",
    "from pycuda import driver, compiler, gpuarray, tools\n",
    "\n",
    "# -- initialize the device\n",
    "import pycuda.autoinit\n",
    "\n",
    "kernel_code_template = \"\"\"\n",
    "#include \"math.h\"\n",
    "#include <float.h>\n",
    "#include \"stdio.h\"\n",
    "\n",
    "__device__ void normalize_cc(float *a, float *b, float *c, int depth);\n",
    "\n",
    "__device__ void normalize_dd(float *a, float *b, float *c, int depth)\n",
    "{\n",
    "    float len;\n",
    "    float ta, tb, tc;\n",
    "    float tt[3];\n",
    "    \n",
    "    ta = *a;\n",
    "    tb = *b;\n",
    "    tc = *c;\n",
    "    len = ta*ta + tb*tb + tc*tc;\n",
    "    \n",
    "    if(len == 0.0)\n",
    "        return;\n",
    "    len = sqrt(len);\n",
    "    *a = ta/len;\n",
    "    *b = tb/len;\n",
    "    *c = tc/len;\n",
    "    \n",
    "    if(depth <= 5)\n",
    "        normalize_cc(a, b, c, depth+1);\n",
    "        \n",
    "}\n",
    "\n",
    "__device__ void normalize_cc(float *a, float *b, float *c, int depth)\n",
    "{\n",
    "    float len;\n",
    "    float ta, tb, tc;\n",
    "    \n",
    "    ta = *a;\n",
    "    tb = *b;\n",
    "    tc = *c;\n",
    "    len = ta*ta + tb*tb + tc*tc;\n",
    "    \n",
    "    if(len == 0.0)\n",
    "        return;\n",
    "    len = sqrt(len);\n",
    "    *a = ta/len;\n",
    "    *b = tb/len;\n",
    "    *c = tc/len;\n",
    "    \n",
    "    if(depth <= 5)\n",
    "        normalize_dd(a, b, c, depth+1);\n",
    "        \n",
    "}\n",
    "\n",
    "__global__ void MatrixMulKernel(float *a, float *b, float *c)\n",
    "{\n",
    "    // 2D Thread ID (assuming that only *one* block will be executed)\n",
    "    int tx = threadIdx.x;\n",
    "    int ty = threadIdx.y;\n",
    "\n",
    "    // Pvalue is used to store the element of the matrix\n",
    "    // that is computed by the thread\n",
    "    float Pvalue = 0;\n",
    "\n",
    "    // Each thread loads one row of M and one column of N,\n",
    "    //   to produce one element of P.\n",
    "    for (int k = 0; k < %(MATRIX_SIZE)s; ++k) {\n",
    "        float Aelement = a[ty * %(MATRIX_SIZE)s + k];\n",
    "        float Belement = b[k * %(MATRIX_SIZE)s + tx];\n",
    "        Pvalue += Aelement * Belement;\n",
    "    }\n",
    "    \n",
    "    float aa = 12.3;\n",
    "    float bb = 10.0;\n",
    "    \n",
    "    normalize_cc(&Pvalue, &aa, &bb, 0);\n",
    "\n",
    "    // Write the matrix to device memory;\n",
    "    // each thread writes one element\n",
    "    c[ty * %(MATRIX_SIZE)s + tx] = Pvalue;\n",
    "}\n",
    "\n",
    "\n",
    "\"\"\"\n",
    "\n",
    "# define the (square) matrix size\n",
    "#  note that we'll only use *one* block of threads here\n",
    "#  as a consequence this number (squared) can't exceed max_threads,\n",
    "#  see http://documen.tician.de/pycuda/util.html#pycuda.tools.DeviceData\n",
    "#  for more information on how to get this number for your device\n",
    "MATRIX_SIZE = 2\n",
    "\n",
    "# create two random square matrices\n",
    "a_cpu = np.random.randn(MATRIX_SIZE, MATRIX_SIZE).astype(np.float32)\n",
    "b_cpu = np.random.randn(MATRIX_SIZE, MATRIX_SIZE).astype(np.float32)\n",
    "\n",
    "# compute reference on the CPU to verify GPU computation\n",
    "c_cpu = np.dot(a_cpu, b_cpu)\n",
    "\n",
    "# transfer host (CPU) memory to device (GPU) memory\n",
    "a_gpu = gpuarray.to_gpu(a_cpu)\n",
    "b_gpu = gpuarray.to_gpu(b_cpu)\n",
    "\n",
    "# create empty gpu array for the result (C = A * B)\n",
    "c_gpu = gpuarray.empty((MATRIX_SIZE, MATRIX_SIZE), np.float32)\n",
    "\n",
    "# get the kernel code from the template\n",
    "# by specifying the constant MATRIX_SIZE\n",
    "\n",
    "kernel_code = kernel_code_template.replace(\n",
    "    '%(MATRIX_SIZE)s', str(MATRIX_SIZE)\n",
    "    )\n",
    "\n",
    "# compile the kernel code\n",
    "mod = compiler.SourceModule(kernel_code)\n",
    "\n",
    "# get the kernel function from the compiled module\n",
    "matrixmul = mod.get_function(\"MatrixMulKernel\")\n",
    "\n",
    "# call the kernel on the card\n",
    "matrixmul(\n",
    "    # inputs\n",
    "    a_gpu, b_gpu,\n",
    "    # output\n",
    "    c_gpu,\n",
    "    # (only one) block of MATRIX_SIZE x MATRIX_SIZE threads\n",
    "    block = (MATRIX_SIZE, MATRIX_SIZE, 1),\n",
    "    )\n",
    "\n",
    "# print the results\n",
    "print \"-\" * 80\n",
    "print \"Matrix A (GPU):\"\n",
    "print a_gpu.get()\n",
    "\n",
    "print \"-\" * 80\n",
    "print \"Matrix B (GPU):\"\n",
    "print b_gpu.get()\n",
    "\n",
    "print \"-\" * 80\n",
    "print \"Matrix C (GPU):\"\n",
    "print c_gpu.get()\n",
    "\n",
    "print \"-\" * 80\n",
    "print \"CPU-GPU difference:\"\n",
    "print c_cpu - c_gpu.get()\n",
    "\n",
    "print np.allclose(c_cpu, c_gpu.get())\n"
   ]
  },
  {
   "cell_type": "code",
   "execution_count": 38,
   "metadata": {},
   "outputs": [],
   "source": [
    "# raytracer.py - basic Python raytracer\n",
    "# Micha Hanselmann, 2017\n",
    "# ---\n",
    "# based on http://www.scratchapixel.com/lessons/3d-basic-rendering/introduction-to-ray-tracing\n",
    "\n",
    "from camera import Camera\n",
    "from material import Material\n",
    "from sphere import Sphere\n",
    "from renderer import Renderer\n",
    "from renderobject import RenderObject\n",
    "from vector3 import Vector3\n",
    "\n",
    "# render settings\n",
    "width = 1280\n",
    "height = 960\n",
    "super_sampling = 1\n",
    "\n",
    "# create demo scene\n",
    "light_mat = Material(emission_color=Vector3(4, 4, 4))\n",
    "light_sphere = Sphere(Vector3(5, 50, 20), 5)\n",
    "light_obj = RenderObject(light_sphere, light_mat)\n",
    "\n",
    "light2_mat = Material(emission_color=Vector3(2, 2, 2))\n",
    "light2_sphere = Sphere(Vector3(0, 10, -5), 5)\n",
    "light2_obj = RenderObject(light2_sphere, light2_mat)\n",
    "\n",
    "blue_light_mat = Material(emission_color=Vector3(0, 0, 1))\n",
    "blue_light_sphere = Sphere(Vector3(-40, 5, 10), 3)\n",
    "blue_light_obj = RenderObject(blue_light_sphere, blue_light_mat)\n",
    "\n",
    "ground_mat = Material(surface_color=Vector3(0.2, 0.2, 0.2))\n",
    "ground_sphere = Sphere(Vector3(0, -10010, 20), 10000)\n",
    "ground_obj = RenderObject(ground_sphere, ground_mat)\n",
    "\n",
    "mat1 = Material(surface_color=Vector3(0.8, 0.2, 0.2))\n",
    "sph1 = Sphere(Vector3(10, 1, 50), 5)\n",
    "obj1 = RenderObject(sph1, mat1)\n",
    "\n",
    "mat2 = Material(surface_color=Vector3(1, 1, 1), transparency=1, ior=1.1)\n",
    "sph2 = Sphere(Vector3(1, -1, 10), 1)\n",
    "obj2 = RenderObject(sph2, mat2)\n",
    "\n",
    "mat3 = Material(surface_color=Vector3(0.8, 0.8, 1), reflectivity=0.5, transparency=0.8)\n",
    "sph3 = Sphere(Vector3(-4, -1, 20), 2)\n",
    "obj3 = RenderObject(sph3, mat3)\n",
    "\n",
    "mat4 = Material(surface_color=Vector3(1, 1, 1), reflectivity=1.0)\n",
    "sph4 = Sphere(Vector3(0, 0, 60), 8)\n",
    "obj4 = RenderObject(sph4, mat4)\n",
    "\n",
    "scene = [ground_obj, light_obj, light2_obj, blue_light_obj, obj1, obj2, obj3, obj4]\n",
    "camera = Camera(Vector3(), 30)"
   ]
  },
  {
   "cell_type": "code",
   "execution_count": 3,
   "metadata": {},
   "outputs": [
    {
     "name": "stdout",
     "output_type": "stream",
     "text": [
      "[<renderobject.RenderObject instance at 0x0000000006A5B988>, <renderobject.RenderObject instance at 0x0000000006A5B588>, <renderobject.RenderObject instance at 0x0000000006A5B708>, <renderobject.RenderObject instance at 0x0000000006A5B848>, <renderobject.RenderObject instance at 0x0000000006A5BAC8>, <renderobject.RenderObject instance at 0x0000000006A5BC08>, <renderobject.RenderObject instance at 0x0000000006A5BD88>, <renderobject.RenderObject instance at 0x0000000006A5BEC8>]\n"
     ]
    }
   ],
   "source": [
    "print scene"
   ]
  },
  {
   "cell_type": "code",
   "execution_count": 4,
   "metadata": {},
   "outputs": [],
   "source": [
    "camera = Camera(Vector3(), 30)"
   ]
  },
  {
   "cell_type": "code",
   "execution_count": null,
   "metadata": {},
   "outputs": [],
   "source": [
    "renderer = Renderer(tilesize=64)\n"
   ]
  },
  {
   "cell_type": "code",
   "execution_count": 40,
   "metadata": {
    "scrolled": true
   },
   "outputs": [
    {
     "name": "stdout",
     "output_type": "stream",
     "text": [
      "1.0\n"
     ]
    },
    {
     "ename": "ValueError",
     "evalue": "all the input arrays must have same number of dimensions",
     "output_type": "error",
     "traceback": [
      "\u001b[1;31m---------------------------------------------------------------------------\u001b[0m",
      "\u001b[1;31mValueError\u001b[0m                                Traceback (most recent call last)",
      "\u001b[1;32m<ipython-input-40-fe55540e985b>\u001b[0m in \u001b[0;36m<module>\u001b[1;34m()\u001b[0m\n\u001b[0;32m      5\u001b[0m \u001b[0mll\u001b[0m \u001b[1;33m=\u001b[0m \u001b[0mnp\u001b[0m\u001b[1;33m.\u001b[0m\u001b[0marray\u001b[0m\u001b[1;33m(\u001b[0m\u001b[1;33m[\u001b[0m\u001b[1;33m[\u001b[0m\u001b[1;33m]\u001b[0m\u001b[1;33m]\u001b[0m\u001b[1;33m)\u001b[0m\u001b[1;33m\u001b[0m\u001b[0m\n\u001b[0;32m      6\u001b[0m \u001b[0mcc\u001b[0m \u001b[1;33m=\u001b[0m \u001b[0mnp\u001b[0m\u001b[1;33m.\u001b[0m\u001b[0marray\u001b[0m\u001b[1;33m(\u001b[0m\u001b[1;33m[\u001b[0m\u001b[1;33m[\u001b[0m\u001b[1;36m1\u001b[0m\u001b[1;33m,\u001b[0m\u001b[1;36m2\u001b[0m\u001b[1;33m,\u001b[0m\u001b[1;36m3\u001b[0m\u001b[1;33m]\u001b[0m\u001b[1;33m,\u001b[0m\u001b[1;33m[\u001b[0m\u001b[1;36m1\u001b[0m\u001b[1;33m,\u001b[0m\u001b[1;36m2\u001b[0m\u001b[1;33m,\u001b[0m\u001b[1;36m3\u001b[0m\u001b[1;33m]\u001b[0m\u001b[1;33m]\u001b[0m\u001b[1;33m)\u001b[0m\u001b[1;33m\u001b[0m\u001b[0m\n\u001b[1;32m----> 7\u001b[1;33m \u001b[0mll\u001b[0m \u001b[1;33m=\u001b[0m \u001b[0mnp\u001b[0m\u001b[1;33m.\u001b[0m\u001b[0mappend\u001b[0m\u001b[1;33m(\u001b[0m\u001b[0mll\u001b[0m\u001b[1;33m,\u001b[0m\u001b[0mcc\u001b[0m\u001b[1;33m[\u001b[0m\u001b[1;36m0\u001b[0m\u001b[1;33m]\u001b[0m\u001b[1;33m,\u001b[0m\u001b[0maxis\u001b[0m \u001b[1;33m=\u001b[0m \u001b[1;36m1\u001b[0m\u001b[1;33m)\u001b[0m\u001b[1;33m\u001b[0m\u001b[0m\n\u001b[0m\u001b[0;32m      8\u001b[0m \u001b[0mll\u001b[0m \u001b[1;33m=\u001b[0m \u001b[0mnp\u001b[0m\u001b[1;33m.\u001b[0m\u001b[0mappend\u001b[0m\u001b[1;33m(\u001b[0m\u001b[0mll\u001b[0m\u001b[1;33m,\u001b[0m\u001b[0mcc\u001b[0m\u001b[1;33m[\u001b[0m\u001b[1;36m1\u001b[0m\u001b[1;33m]\u001b[0m\u001b[1;33m)\u001b[0m\u001b[1;33m\u001b[0m\u001b[0m\n\u001b[0;32m      9\u001b[0m \u001b[1;33m\u001b[0m\u001b[0m\n",
      "\u001b[1;32mD:\\Anaconda\\envs\\hetero\\lib\\site-packages\\numpy\\lib\\function_base.pyc\u001b[0m in \u001b[0;36mappend\u001b[1;34m(arr, values, axis)\u001b[0m\n\u001b[0;32m   5164\u001b[0m         \u001b[0mvalues\u001b[0m \u001b[1;33m=\u001b[0m \u001b[0mravel\u001b[0m\u001b[1;33m(\u001b[0m\u001b[0mvalues\u001b[0m\u001b[1;33m)\u001b[0m\u001b[1;33m\u001b[0m\u001b[0m\n\u001b[0;32m   5165\u001b[0m         \u001b[0maxis\u001b[0m \u001b[1;33m=\u001b[0m \u001b[0marr\u001b[0m\u001b[1;33m.\u001b[0m\u001b[0mndim\u001b[0m\u001b[1;33m-\u001b[0m\u001b[1;36m1\u001b[0m\u001b[1;33m\u001b[0m\u001b[0m\n\u001b[1;32m-> 5166\u001b[1;33m     \u001b[1;32mreturn\u001b[0m \u001b[0mconcatenate\u001b[0m\u001b[1;33m(\u001b[0m\u001b[1;33m(\u001b[0m\u001b[0marr\u001b[0m\u001b[1;33m,\u001b[0m \u001b[0mvalues\u001b[0m\u001b[1;33m)\u001b[0m\u001b[1;33m,\u001b[0m \u001b[0maxis\u001b[0m\u001b[1;33m=\u001b[0m\u001b[0maxis\u001b[0m\u001b[1;33m)\u001b[0m\u001b[1;33m\u001b[0m\u001b[0m\n\u001b[0m",
      "\u001b[1;31mValueError\u001b[0m: all the input arrays must have same number of dimensions"
     ]
    }
   ],
   "source": [
    "import numpy as np\n",
    "\n",
    "aa = np.array([True, False, False], np.float32)\n",
    "print aa[0]\n",
    "ll = np.array([[]])\n",
    "cc = np.array([[1,2,3],[1,2,3]])\n",
    "ll = np.append(ll,cc[0])\n",
    "ll = np.append(ll,cc[1])\n",
    "\n",
    "print ll"
   ]
  },
  {
   "cell_type": "code",
   "execution_count": 39,
   "metadata": {},
   "outputs": [
    {
     "name": "stdout",
     "output_type": "stream",
     "text": [
      "<bound method Tracer_gpu.trace of <tracer_gpu.Tracer_gpu instance at 0x000000002E7ED208>>\n",
      "(1228800L, 7L)\n",
      "(8L, 16L)\n",
      "(1228800L, 3L)\n",
      "0\n"
     ]
    }
   ],
   "source": [
    "from tracer_gpu import Tracer_gpu\n",
    "from tracer import Tracer\n",
    "from ray import Ray\n",
    "\n",
    "tracer = Tracer_gpu()\n",
    "tracer_cpu = Tracer()\n",
    "\n",
    "rendered_tile = {}\n",
    "ray_array = []\n",
    "ray_from_array = []\n",
    "\n",
    "cpu_output = []\n",
    "cpu_output0 = []\n",
    "cpu_output1 = []\n",
    "cpu_output2 = []\n",
    "\n",
    "for y in range(0, height):\n",
    "    for x in range(0, width):\n",
    "        sum_color = Vector3()\n",
    "        # sampled_rays = 0\n",
    "        ray = camera.calcRay(x, y, width, height)\n",
    "        \n",
    "        #cpu_output.append(tracer_cpu.trace_diffuse(ray, scene))\n",
    "#         out = tracer_cpu.trace_non_diffuse(ray, scene)\n",
    "#         cpu_output0.append([out[0].origin, out[0].direction, out[0].current_ior])\n",
    "#         cpu_output1.append([out[1].origin, out[1].direction, out[1].current_ior])\n",
    "#         cpu_output2.append(out[2])\n",
    "        ray_array.append([ray.origin.x, ray.origin.y, ray.origin.z, \n",
    "                          ray.direction.x, ray.direction.y, ray.direction.z, ray.current_ior])\n",
    "        ray_from_array.append([x, y])\n",
    "        # for ss_x in range(-super_sampling + 1, super_sampling):\n",
    "        #     for ss_y in range(-super_sampling + 1, super_sampling):\n",
    "        #         ray = camera.calcRay(x + ss_x, y + ss_y, width, height)\n",
    "        #         sum_color += tracer.trace(ray, scene)\n",
    "        #         sampled_rays += 1\n",
    "        # rendered_tile[x, y] = sum_color * (1 / sampled_rays)\n",
    "\n",
    "print tracer.trace\n",
    "rendered_tile = tracer.trace(ray_array, ray_from_array, scene)\n",
    "print rendered_tile.shape\n",
    "print len(cpu_output)"
   ]
  },
  {
   "cell_type": "code",
   "execution_count": 69,
   "metadata": {},
   "outputs": [
    {
     "name": "stdout",
     "output_type": "stream",
     "text": [
      "[array([0, 0, 2, 2, 4, 4, 5, 6, 6]), array([0.1014737 , 0.1014737 , 0.16294532, 0.16294532, 0.13196175,\n",
      "       0.13196175, 0.16034472, 0.10850976, 0.10850976], dtype=float32), array([6, 6, 6, 6, 5, 5, 7, 5, 5]), array([[0.        , 0.        , 0.        ],\n",
      "       [0.3288296 , 0.3288296 , 0.34647205],\n",
      "       [0.        , 0.        , 0.        ],\n",
      "       [0.33723915, 0.33723915, 0.3548629 ],\n",
      "       [0.        , 0.        , 0.        ],\n",
      "       [0.        , 0.        , 0.        ],\n",
      "       [0.        , 0.        , 0.        ],\n",
      "       [0.3193636 , 0.3193636 , 0.33704254]], dtype=float32)]\n",
      "[[-4.85621    -1.4568331  21.74866    -0.21743694 -0.06522068  0.9738929\n",
      "   1.        ]\n",
      " [-4.85621    -1.4568331  21.74866     0.6041674   0.37314838 -0.7040896\n",
      "   1.        ]\n",
      " [-2.8948069  -1.447253   21.60565    -0.13258474 -0.06622455  0.9889568\n",
      "   1.        ]\n",
      " [-2.8948069  -1.447253   21.60565    -0.94553906  0.26276436 -0.19212171\n",
      "   1.        ]\n",
      " [ 0.5897499  -0.791089   10.8876095   0.10796723 -0.10429543  0.98866856\n",
      "   1.        ]\n",
      " [ 0.5897499  -0.791089   10.8876095   0.7484808  -0.42597994 -0.5082495\n",
      "   1.        ]\n",
      " [ 2.8680317  -3.874068   53.615288    0.5844641  -0.78960633 -0.18687876\n",
      "   1.        ]\n",
      " [ 1.3968768  -0.79053783 10.89354     0.0979756  -0.10002463  0.99014944\n",
      "   1.        ]\n",
      " [ 1.3968768  -0.79053783 10.89354    -0.60198945 -0.45565554 -0.65573376\n",
      "   1.        ]]\n"
     ]
    }
   ],
   "source": [
    "print rendered_tile[1][2]\n",
    "\n",
    "print rendered_tile[2][2]"
   ]
  },
  {
   "cell_type": "code",
   "execution_count": 52,
   "metadata": {},
   "outputs": [],
   "source": [
    "cpu_output = []\n",
    "cpu_output0 = []\n",
    "cpu_output1 = []\n",
    "cpu_output2 = []\n",
    "cpu_out = []\n",
    "\n",
    "for y in range(0, height):\n",
    "    for x in range(0, width):\n",
    "        sum_color = Vector3()\n",
    "        # sampled_rays = 0\n",
    "        ray = camera.calcRay(x, y, width, height)\n",
    "        cpu_out.append(tracer_cpu.trace(ray, scene))\n",
    "#         cpu_output.append(tracer_cpu.trace_diffuse(ray, scene))\n",
    "        out = tracer_cpu.trace_non_diffuse(ray, scene)\n",
    "        cpu_output0.append([out[0].origin, out[0].direction, out[0].current_ior])\n",
    "        cpu_output0.append([out[1].origin, out[1].direction, out[1].current_ior])\n",
    "        cpu_output2.append(out[2])"
   ]
  },
  {
   "cell_type": "code",
   "execution_count": 56,
   "metadata": {},
   "outputs": [],
   "source": [
    "for ray in ray_ll:\n",
    "    out = tracer_cpu.trace_non_diffuse(Ray(ray[0], ray[1]), scene)\n",
    "    cpu_output1.append([out[0].origin, out[0].direction, out[0].current_ior])\n",
    "    cpu_output1.append([out[1].origin, out[1].direction, out[1].current_ior])"
   ]
  },
  {
   "cell_type": "code",
   "execution_count": 57,
   "metadata": {},
   "outputs": [
    {
     "name": "stdout",
     "output_type": "stream",
     "text": [
      "8\n",
      "[Vector3(0, 0, 0), Vector3(0.328820195247, 0.328820195247, 0.346462302846), Vector3(0, 0, 0), Vector3(0.337234670053, 0.337234670053, 0.35485825488), Vector3(0, 0, 0), Vector3(0.675891392481, 0.675891392481, 0.675891392481), Vector3(0, 0, 0), Vector3(0.560598380727, 0.560598380727, 0.595062358285)]\n",
      "[[Vector3(-4.85622996737, -1.45684899071, 21.7486449762), Vector3(0.604166870423, 0.373148230269, -0.704090044618), 1.0], [Vector3(-4.85631559465, -1.4568946779, 21.7488198494), Vector3(-0.217460105737, -0.0652380317212, 0.973886595877), 1.0], [Vector3(-2.89473300767, -1.44726650633, 21.6055957019), Vector3(-0.9455391729, 0.262764373101, -0.192121203255), 1.0], [Vector3(-2.89462247544, -1.44731123522, 21.6057562695), Vector3(-0.132496463429, -0.0662482317143, 0.988967066678), 1.0], [Vector3(0.589695271903, -0.791055061243, 10.8875765052), Vector3(0.773911920431, -0.443413475462, -0.452155757669), 1.0], [Vector3(0.58961320275, -0.791013268076, 10.8877540383), Vector3(0.170574285688, -0.14109822053, 0.975190086714), 1.0], [Vector3(1.39690567279, -0.790505848902, 10.89352006), Vector3(-0.618666128004, -0.47825105302, -0.623320264668), 1.0], [Vector3(1.39698506187, -0.790463945881, 10.8936987818), Vector3(0.0633687859464, -0.133431181116, 0.989030088963), 1.0]]\n"
     ]
    }
   ],
   "source": [
    "diffuse_output = []\n",
    "ray_ll = []\n",
    "for ray in cpu_output1:\n",
    "    if ray[-1] > 0:\n",
    "        ray_ll.append(ray)\n",
    "        diffuse_output.append(tracer_cpu.trace_diffuse(Ray(ray[0], ray[1]), scene))\n",
    "print len(diffuse_output)        \n",
    "print diffuse_output\n",
    "print ray_ll"
   ]
  },
  {
   "cell_type": "code",
   "execution_count": 40,
   "metadata": {},
   "outputs": [],
   "source": [
    "image = rendered_tile\n",
    "\n",
    "def to_rgb_color(x, y, image):\n",
    "        \"\"\"Converts the vector into RGB values\"\"\"\n",
    "        r = max(0, min(1, image[x+y*width, 0])) * 255\n",
    "        g = max(0, min(1, image[x+y*width, 1])) * 255\n",
    "        b = max(0, min(1, image[x+y*width, 2])) * 255\n",
    "        return int(r), int(g), int(b)\n",
    "\n",
    "file = open(\"output.ppm\", \"w\")\n",
    "file.write(\"P3\\n{0} {1}\\n255\\n\".format(width, height))\n",
    "for y in range(height):\n",
    "    for x in range(width):\n",
    "        file.write(\"{0} {1} {2} \".format(*to_rgb_color(x,y,image)))\n",
    "file.close()"
   ]
  },
  {
   "cell_type": "code",
   "execution_count": 76,
   "metadata": {},
   "outputs": [],
   "source": [
    "image = cpu_output\n",
    "\n",
    "file = open(\"output_cpu.ppm\", \"w\")\n",
    "file.write(\"P3\\n{0} {1}\\n255\\n\".format(width, height))\n",
    "for y in range(height):\n",
    "    for x in range(width):\n",
    "        file.write(\"{0} {1} {2} \".format(*image[x+y*width].to_rgb_color()))\n",
    "file.close()"
   ]
  },
  {
   "cell_type": "code",
   "execution_count": 15,
   "metadata": {},
   "outputs": [
    {
     "data": {
      "text/plain": [
       "0.2679491924311227"
      ]
     },
     "execution_count": 15,
     "metadata": {},
     "output_type": "execute_result"
    }
   ],
   "source": [
    "import math\n",
    "math.tan(math.pi*0.5*30/180)"
   ]
  }
 ],
 "metadata": {
  "kernelspec": {
   "display_name": "Python 3",
   "language": "python",
   "name": "python3"
  },
  "language_info": {
   "codemirror_mode": {
    "name": "ipython",
    "version": 3
   },
   "file_extension": ".py",
   "mimetype": "text/x-python",
   "name": "python",
   "nbconvert_exporter": "python",
   "pygments_lexer": "ipython3",
   "version": "3.6.4"
  }
 },
 "nbformat": 4,
 "nbformat_minor": 2
}
