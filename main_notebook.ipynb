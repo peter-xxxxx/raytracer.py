{
 "cells": [
  {
   "cell_type": "code",
   "execution_count": 1,
   "metadata": {},
   "outputs": [
    {
     "name": "stdout",
     "output_type": "stream",
     "text": [
      "123\n",
      "hello world\n"
     ]
    }
   ],
   "source": [
    "print '123'\n",
    "print 'hello world'\n",
    "\n",
    "%load_ext autoreload\n",
    "%autoreload 2"
   ]
  },
  {
   "cell_type": "code",
   "execution_count": 12,
   "metadata": {},
   "outputs": [
    {
     "name": "stdout",
     "output_type": "stream",
     "text": [
      "--------------------------------------------------------------------------------\n",
      "Matrix A (GPU):\n",
      "[[ 0.5741099   0.61968637  0.66915023 -0.4434276 ]\n",
      " [-2.50126    -0.21544841  1.5955222  -2.2915165 ]\n",
      " [ 1.263323    1.9567116   0.5307086   0.679667  ]\n",
      " [-0.24789377  0.8190734  -1.2508807  -0.40601698]]\n",
      "--------------------------------------------------------------------------------\n",
      "Matrix B (GPU):\n",
      "[[ 1.2625614   0.8190915  -0.06611554 -1.0133846 ]\n",
      " [-1.1254909  -0.0239238   1.041059    0.24825367]\n",
      " [-0.43982163  0.05808067 -1.8432946  -0.46903804]\n",
      " [-0.99039817 -0.20767169  0.02409087  0.3452121 ]]\n",
      "--------------------------------------------------------------------------------\n",
      "Matrix C (GPU):\n",
      "[[ 0.01086609  0.03696504 -0.0401484  -0.0563625 ]\n",
      " [-0.08471391 -0.09265063 -0.18924509  0.05930904]\n",
      " [-0.09506237  0.0552796   0.06243412 -0.05095302]\n",
      " [-0.01782177 -0.01330787  0.19579656  0.05675238]]\n",
      "--------------------------------------------------------------------------------\n",
      "CPU-GPU difference:\n",
      "[[ 0.16139473  0.54941034 -0.5968028  -0.8385257 ]\n",
      " [-1.2630267  -1.3824039  -2.8658993   0.8825235 ]\n",
      " [-1.4187342   0.8223618   0.92921454 -0.75781125]\n",
      " [-0.26473612 -0.19766892  2.9692574   0.844346  ]]\n",
      "False\n"
     ]
    }
   ],
   "source": [
    "\n",
    "\n",
    "\"\"\"\n",
    "Multiplies two square matrices together using a *single* block of threads and\n",
    "global memory only. Each thread computes one element of the resulting matrix.\n",
    "\"\"\"\n",
    "\n",
    "import numpy as np\n",
    "from pycuda import driver, compiler, gpuarray, tools\n",
    "\n",
    "# -- initialize the device\n",
    "import pycuda.autoinit\n",
    "\n",
    "kernel_code_template = \"\"\"\n",
    "#include \"math.h\"\n",
    "#include <float.h>\n",
    "\n",
    "__device__ void normalize_cc(float *a, float *b, float *c)\n",
    "{\n",
    "    float len;\n",
    "    float ta, tb, tc;\n",
    "    \n",
    "    ta = *a;\n",
    "    tb = *b;\n",
    "    tc = *c;\n",
    "    len = ta*ta + tb*tb + tc*tc;\n",
    "    \n",
    "    if(len == 0.0)\n",
    "        return;\n",
    "    len = sqrt(len);\n",
    "    *a = ta/len;\n",
    "    *b = tb/len;\n",
    "    *c = tc/len;\n",
    "}\n",
    "\n",
    "__global__ void MatrixMulKernel(float *a, float *b, float *c)\n",
    "{\n",
    "    // 2D Thread ID (assuming that only *one* block will be executed)\n",
    "    int tx = threadIdx.x;\n",
    "    int ty = threadIdx.y;\n",
    "\n",
    "    // Pvalue is used to store the element of the matrix\n",
    "    // that is computed by the thread\n",
    "    float Pvalue = 0;\n",
    "\n",
    "    // Each thread loads one row of M and one column of N,\n",
    "    //   to produce one element of P.\n",
    "    for (int k = 0; k < %(MATRIX_SIZE)s; ++k) {\n",
    "        float Aelement = a[ty * %(MATRIX_SIZE)s + k];\n",
    "        float Belement = b[k * %(MATRIX_SIZE)s + tx];\n",
    "        Pvalue += Aelement * Belement;\n",
    "    }\n",
    "    \n",
    "    float aa = 12.3;\n",
    "    float bb = 10.0;\n",
    "    \n",
    "    normalize_cc(&Pvalue, &aa, &bb);\n",
    "\n",
    "    // Write the matrix to device memory;\n",
    "    // each thread writes one element\n",
    "    c[ty * %(MATRIX_SIZE)s + tx] = Pvalue;\n",
    "}\n",
    "\n",
    "\n",
    "\"\"\"\n",
    "\n",
    "# define the (square) matrix size\n",
    "#  note that we'll only use *one* block of threads here\n",
    "#  as a consequence this number (squared) can't exceed max_threads,\n",
    "#  see http://documen.tician.de/pycuda/util.html#pycuda.tools.DeviceData\n",
    "#  for more information on how to get this number for your device\n",
    "MATRIX_SIZE = 4\n",
    "\n",
    "# create two random square matrices\n",
    "a_cpu = np.random.randn(MATRIX_SIZE, MATRIX_SIZE).astype(np.float32)\n",
    "b_cpu = np.random.randn(MATRIX_SIZE, MATRIX_SIZE).astype(np.float32)\n",
    "\n",
    "# compute reference on the CPU to verify GPU computation\n",
    "c_cpu = np.dot(a_cpu, b_cpu)\n",
    "\n",
    "# transfer host (CPU) memory to device (GPU) memory\n",
    "a_gpu = gpuarray.to_gpu(a_cpu)\n",
    "b_gpu = gpuarray.to_gpu(b_cpu)\n",
    "\n",
    "# create empty gpu array for the result (C = A * B)\n",
    "c_gpu = gpuarray.empty((MATRIX_SIZE, MATRIX_SIZE), np.float32)\n",
    "\n",
    "# get the kernel code from the template\n",
    "# by specifying the constant MATRIX_SIZE\n",
    "kernel_code = kernel_code_template % {\n",
    "    'MATRIX_SIZE': MATRIX_SIZE\n",
    "    }\n",
    "\n",
    "# compile the kernel code\n",
    "mod = compiler.SourceModule(kernel_code)\n",
    "\n",
    "# get the kernel function from the compiled module\n",
    "matrixmul = mod.get_function(\"MatrixMulKernel\")\n",
    "\n",
    "# call the kernel on the card\n",
    "matrixmul(\n",
    "    # inputs\n",
    "    a_gpu, b_gpu,\n",
    "    # output\n",
    "    c_gpu,\n",
    "    # (only one) block of MATRIX_SIZE x MATRIX_SIZE threads\n",
    "    block = (MATRIX_SIZE, MATRIX_SIZE, 1),\n",
    "    )\n",
    "\n",
    "# print the results\n",
    "print \"-\" * 80\n",
    "print \"Matrix A (GPU):\"\n",
    "print a_gpu.get()\n",
    "\n",
    "print \"-\" * 80\n",
    "print \"Matrix B (GPU):\"\n",
    "print b_gpu.get()\n",
    "\n",
    "print \"-\" * 80\n",
    "print \"Matrix C (GPU):\"\n",
    "print c_gpu.get()\n",
    "\n",
    "print \"-\" * 80\n",
    "print \"CPU-GPU difference:\"\n",
    "print c_cpu - c_gpu.get()\n",
    "\n",
    "print np.allclose(c_cpu, c_gpu.get())\n"
   ]
  },
  {
   "cell_type": "code",
   "execution_count": 3,
   "metadata": {},
   "outputs": [],
   "source": [
    "# raytracer.py - basic Python raytracer\n",
    "# Micha Hanselmann, 2017\n",
    "# ---\n",
    "# based on http://www.scratchapixel.com/lessons/3d-basic-rendering/introduction-to-ray-tracing\n",
    "\n",
    "from camera import Camera\n",
    "from material import Material\n",
    "from sphere import Sphere\n",
    "from renderer import Renderer\n",
    "from renderobject import RenderObject\n",
    "from vector3 import Vector3\n",
    "\n",
    "# render settings\n",
    "width = 640\n",
    "height = 480\n",
    "super_sampling = 1\n",
    "\n",
    "# create demo scene\n",
    "light_mat = Material(emission_color=Vector3(4, 4, 4))\n",
    "light_sphere = Sphere(Vector3(5, 50, 20), 5)\n",
    "light_obj = RenderObject(light_sphere, light_mat)\n",
    "\n",
    "light2_mat = Material(emission_color=Vector3(2, 2, 2))\n",
    "light2_sphere = Sphere(Vector3(0, 10, -5), 5)\n",
    "light2_obj = RenderObject(light2_sphere, light2_mat)\n",
    "\n",
    "blue_light_mat = Material(emission_color=Vector3(0, 0, 1))\n",
    "blue_light_sphere = Sphere(Vector3(-40, 5, 10), 3)\n",
    "blue_light_obj = RenderObject(blue_light_sphere, blue_light_mat)\n",
    "\n",
    "ground_mat = Material(surface_color=Vector3(0.2, 0.2, 0.2))\n",
    "ground_sphere = Sphere(Vector3(0, -10010, 20), 10000)\n",
    "ground_obj = RenderObject(ground_sphere, ground_mat)\n",
    "\n",
    "mat1 = Material(surface_color=Vector3(0.8, 0.2, 0.2))\n",
    "sph1 = Sphere(Vector3(10, 1, 50), 5)\n",
    "obj1 = RenderObject(sph1, mat1)\n",
    "\n",
    "mat2 = Material(surface_color=Vector3(1, 1, 1), transparency=1, ior=1.1)\n",
    "sph2 = Sphere(Vector3(1, -1, 10), 1)\n",
    "obj2 = RenderObject(sph2, mat2)\n",
    "\n",
    "mat3 = Material(surface_color=Vector3(0.8, 0.8, 1), reflectivity=0.5, transparency=0.8)\n",
    "sph3 = Sphere(Vector3(-4, -1, 20), 2)\n",
    "obj3 = RenderObject(sph3, mat3)\n",
    "\n",
    "mat4 = Material(surface_color=Vector3(1, 1, 1), reflectivity=1.0)\n",
    "sph4 = Sphere(Vector3(0, 0, 60), 8)\n",
    "obj4 = RenderObject(sph4, mat4)\n",
    "\n",
    "scene = [ground_obj, light_obj, light2_obj, blue_light_obj, obj1, obj2, obj3, obj4]"
   ]
  },
  {
   "cell_type": "code",
   "execution_count": 4,
   "metadata": {},
   "outputs": [
    {
     "name": "stdout",
     "output_type": "stream",
     "text": [
      "[<renderobject.RenderObject instance at 0x00000000073E9F48>, <renderobject.RenderObject instance at 0x00000000073E9B48>, <renderobject.RenderObject instance at 0x00000000073E9CC8>, <renderobject.RenderObject instance at 0x00000000073E9E08>, <renderobject.RenderObject instance at 0x00000000073F00C8>, <renderobject.RenderObject instance at 0x00000000073F0208>, <renderobject.RenderObject instance at 0x00000000073F0388>, <renderobject.RenderObject instance at 0x00000000073F04C8>]\n"
     ]
    }
   ],
   "source": [
    "print scene"
   ]
  },
  {
   "cell_type": "code",
   "execution_count": 5,
   "metadata": {},
   "outputs": [],
   "source": [
    "camera = Camera(Vector3(), 30)"
   ]
  },
  {
   "cell_type": "code",
   "execution_count": null,
   "metadata": {},
   "outputs": [],
   "source": [
    "renderer = Renderer(tilesize=64)\n"
   ]
  },
  {
   "cell_type": "code",
   "execution_count": 5,
   "metadata": {},
   "outputs": [
    {
     "name": "stdout",
     "output_type": "stream",
     "text": [
      "1.0\n"
     ]
    }
   ],
   "source": [
    "import numpy as np\n",
    "\n",
    "aa = np.array([True, False, False], np.float32)\n",
    "print aa[0]"
   ]
  },
  {
   "cell_type": "code",
   "execution_count": 10,
   "metadata": {},
   "outputs": [
    {
     "data": {
      "text/plain": [
       "2.0"
      ]
     },
     "execution_count": 10,
     "metadata": {},
     "output_type": "execute_result"
    }
   ],
   "source": [
    "bb = np.array([[1,2,4],[1,2,3]], np.float32)\n",
    "bb[0,1]"
   ]
  },
  {
   "cell_type": "code",
   "execution_count": 15,
   "metadata": {},
   "outputs": [
    {
     "ename": "CompileError",
     "evalue": "nvcc compilation of c:\\users\\xsy88\\appdata\\local\\temp\\tmpgjmmpq\\kernel.cu failed\n[command: nvcc --cubin -arch sm_61 -m64 -Id:\\anaconda\\envs\\hetero\\lib\\site-packages\\pycuda\\cuda kernel.cu]\n[stdout:\nkernel.cu\r\n]\n[stderr:\nc:\\program files\\nvidia gpu computing toolkit\\cuda\\v9.2\\include\\crt\\math_functions.h: warning C4819: ���ļ����������ڵ�ǰ����ҳ(936)�б�ʾ���ַ����뽫���ļ�����Ϊ Unicode ��ʽ�Է�ֹ���ݶ�ʧ\r\nc:\\program files\\nvidia gpu computing toolkit\\cuda\\v9.2\\include\\crt\\math_functions.h(830): warning C4819: ���ļ����������ڵ�ǰ����ҳ(936)�б�ʾ���ַ����뽫���ļ�����Ϊ Unicode ��ʽ�Է�ֹ���ݶ�ʧ\r\nc:\\program files\\nvidia gpu computing toolkit\\cuda\\v9.2\\include\\crt\\math_functions.h(1768): warning C4819: ���ļ����������ڵ�ǰ����ҳ(936)�б�ʾ���ַ����뽫���ļ�����Ϊ Unicode ��ʽ�Է�ֹ���ݶ�ʧ\r\nc:\\program files\\nvidia gpu computing toolkit\\cuda\\v9.2\\include\\crt\\math_functions.h(2623): warning C4819: ���ļ����������ڵ�ǰ����ҳ(936)�б�ʾ���ַ����뽫���ļ�����Ϊ Unicode ��ʽ�Է�ֹ���ݶ�ʧ\r\nc:\\program files\\nvidia gpu computing toolkit\\cuda\\v9.2\\include\\crt\\math_functions.h(3461): warning C4819: ���ļ����������ڵ�ǰ����ҳ(936)�б�ʾ���ַ����뽫���ļ�����Ϊ Unicode ��ʽ�Է�ֹ���ݶ�ʧ\r\nc:\\program files\\nvidia gpu computing toolkit\\cuda\\v9.2\\include\\crt\\math_functions.h(4410): warning C4819: ���ļ����������ڵ�ǰ����ҳ(936)�б�ʾ���ַ����뽫���ļ�����Ϊ Unicode ��ʽ�Է�ֹ���ݶ�ʧ\r\nc:\\program files\\nvidia gpu computing toolkit\\cuda\\v9.2\\include\\crt\\math_functions.h(5308): warning C4819: ���ļ����������ڵ�ǰ����ҳ(936)�б�ʾ���ַ����뽫���ļ�����Ϊ Unicode ��ʽ�Է�ֹ���ݶ�ʧ\r\nc:\\program files\\nvidia gpu computing toolkit\\cuda\\v9.2\\include\\crt\\math_functions.h(6216): warning C4819: ���ļ����������ڵ�ǰ����ҳ(936)�б�ʾ���ַ����뽫���ļ�����Ϊ Unicode ��ʽ�Է�ֹ���ݶ�ʧ\r\nc:\\program files\\nvidia gpu computing toolkit\\cuda\\v9.2\\include\\crt\\math_functions.h(7096): warning C4819: ���ļ����������ڵ�ǰ����ҳ(936)�б�ʾ���ַ����뽫���ļ�����Ϊ Unicode ��ʽ�Է�ֹ���ݶ�ʧ\r\nc:\\program files\\nvidia gpu computing toolkit\\cuda\\v9.2\\include\\crt\\math_functions.h(7900): warning C4819: ���ļ����������ڵ�ǰ����ҳ(936)�б�ʾ���ַ����뽫���ļ�����Ϊ Unicode ��ʽ�Է�ֹ���ݶ�ʧ\r\nc:\\program files\\nvidia gpu computing toolkit\\cuda\\v9.2\\include\\crt/device_functions.h: warning C4819: ���ļ����������ڵ�ǰ����ҳ(936)�б�ʾ���ַ����뽫���ļ�����Ϊ Unicode ��ʽ�Է�ֹ���ݶ�ʧ\r\nc:\\program files\\nvidia gpu computing toolkit\\cuda\\v9.2\\include\\crt/device_functions.h(775): warning C4819: ���ļ����������ڵ�ǰ����ҳ(936)�б�ʾ���ַ����뽫���ļ�����Ϊ Unicode ��ʽ�Է�ֹ���ݶ�ʧ\r\nc:\\program files\\nvidia gpu computing toolkit\\cuda\\v9.2\\include\\crt/device_functions.h(1635): warning C4819: ���ļ����������ڵ�ǰ����ҳ(936)�б�ʾ���ַ����뽫���ļ�����Ϊ Unicode ��ʽ�Է�ֹ���ݶ�ʧ\r\nc:\\program files\\nvidia gpu computing toolkit\\cuda\\v9.2\\include\\crt\\device_double_functions.h: warning C4819: ���ļ����������ڵ�ǰ����ҳ(936)�б�ʾ���ַ����뽫���ļ�����Ϊ Unicode ��ʽ�Է�ֹ���ݶ�ʧ\r\nc:\\program files\\nvidia gpu computing toolkit\\cuda\\v9.2\\include\\sm_20_intrinsics.h: warning C4819: ���ļ����������ڵ�ǰ����ҳ(936)�б�ʾ���ַ����뽫���ļ�����Ϊ Unicode ��ʽ�Է�ֹ���ݶ�ʧ\r\nc:\\program files\\nvidia gpu computing toolkit\\cuda\\v9.2\\include\\sm_20_intrinsics.h(924): warning C4819: ���ļ����������ڵ�ǰ����ҳ(936)�б�ʾ���ַ����뽫���ļ�����Ϊ Unicode ��ʽ�Է�ֹ���ݶ�ʧ\r\nkernel.cu(56): error: expected a \";\"\r\n\r\nkernel.cu(77): warning: parsing restarts here after previous syntax error\r\n\r\nkernel.cu(102): warning: variable \"t\" is used before its value is set\r\n\r\nkernel.cu(105): warning: variable \"hit_point1\" is used before its value is set\r\n\r\nkernel.cu(32): warning: variable \"ray_array_index\" was declared but never referenced\r\n\r\nkernel.cu(33): warning: variable \"output_index\" was declared but never referenced\r\n\r\nkernel.cu(37): warning: variable \"current_obj_i\" was set but never used\r\n\r\nkernel.cu(39): warning: variable \"l1\" was declared but never referenced\r\n\r\nkernel.cu(39): warning: variable \"l2\" was declared but never referenced\r\n\r\nkernel.cu(39): warning: variable \"l3\" was declared but never referenced\r\n\r\nkernel.cu(40): warning: variable \"t_ca\" was declared but never referenced\r\n\r\nkernel.cu(41): warning: variable \"d_squared\" was declared but never referenced\r\n\r\nkernel.cu(42): warning: variable \"radius_squared\" was declared but never referenced\r\n\r\nkernel.cu(43): warning: variable \"t_hc\" was declared but never referenced\r\n\r\nkernel.cu(114): error: this declaration has no storage class or type specifier\r\n\r\nkernel.cu(114): error: identifier \"current_obj_i\" is undefined\r\n\r\nkernel.cu(122): error: expected a declaration\r\n\r\n4 errors detected in the compilation of \"C:/Users/xsy88/AppData/Local/Temp/tmpxft_00012f64_00000000-10_kernel.cpp1.ii\".\r\n]",
     "output_type": "error",
     "traceback": [
      "\u001b[1;31m---------------------------------------------------------------------------\u001b[0m",
      "\u001b[1;31mCompileError\u001b[0m                              Traceback (most recent call last)",
      "\u001b[1;32m<ipython-input-15-67449872fd40>\u001b[0m in \u001b[0;36m<module>\u001b[1;34m()\u001b[0m\n\u001b[0;32m      1\u001b[0m \u001b[1;32mfrom\u001b[0m \u001b[0mtracer_gpu\u001b[0m \u001b[1;32mimport\u001b[0m \u001b[0mTracer_gpu\u001b[0m\u001b[1;33m\u001b[0m\u001b[0m\n\u001b[0;32m      2\u001b[0m \u001b[1;33m\u001b[0m\u001b[0m\n\u001b[1;32m----> 3\u001b[1;33m \u001b[0mtracer\u001b[0m \u001b[1;33m=\u001b[0m \u001b[0mTracer_gpu\u001b[0m\u001b[1;33m(\u001b[0m\u001b[1;33m)\u001b[0m\u001b[1;33m\u001b[0m\u001b[0m\n\u001b[0m\u001b[0;32m      4\u001b[0m \u001b[1;33m\u001b[0m\u001b[0m\n\u001b[0;32m      5\u001b[0m \u001b[0mrendered_tile\u001b[0m \u001b[1;33m=\u001b[0m \u001b[1;33m{\u001b[0m\u001b[1;33m}\u001b[0m\u001b[1;33m\u001b[0m\u001b[0m\n",
      "\u001b[1;32mC:\\Users\\xsy88\\Desktop\\raytracer.py\\tracer_gpu.py\u001b[0m in \u001b[0;36m__init__\u001b[1;34m(self, max_recursion_depth, bias)\u001b[0m\n\u001b[0;32m    163\u001b[0m         \u001b[1;31m# get the kernel function from the compiled module\u001b[0m\u001b[1;33m\u001b[0m\u001b[1;33m\u001b[0m\u001b[0m\n\u001b[0;32m    164\u001b[0m \u001b[1;33m\u001b[0m\u001b[0m\n\u001b[1;32m--> 165\u001b[1;33m         \u001b[0mself\u001b[0m\u001b[1;33m.\u001b[0m\u001b[0mmod\u001b[0m \u001b[1;33m=\u001b[0m \u001b[0mcompiler\u001b[0m\u001b[1;33m.\u001b[0m\u001b[0mSourceModule\u001b[0m\u001b[1;33m(\u001b[0m\u001b[0mkernel_code\u001b[0m\u001b[1;33m)\u001b[0m\u001b[1;33m\u001b[0m\u001b[0m\n\u001b[0m\u001b[0;32m    166\u001b[0m \u001b[1;33m\u001b[0m\u001b[0m\n\u001b[0;32m    167\u001b[0m \u001b[1;33m\u001b[0m\u001b[0m\n",
      "\u001b[1;32mD:\\Anaconda\\envs\\hetero\\lib\\site-packages\\pycuda\\compiler.pyc\u001b[0m in \u001b[0;36m__init__\u001b[1;34m(self, source, nvcc, options, keep, no_extern_c, arch, code, cache_dir, include_dirs)\u001b[0m\n\u001b[0;32m    289\u001b[0m \u001b[1;33m\u001b[0m\u001b[0m\n\u001b[0;32m    290\u001b[0m         cubin = compile(source, nvcc, options, keep, no_extern_c,\n\u001b[1;32m--> 291\u001b[1;33m                 arch, code, cache_dir, include_dirs)\n\u001b[0m\u001b[0;32m    292\u001b[0m \u001b[1;33m\u001b[0m\u001b[0m\n\u001b[0;32m    293\u001b[0m         \u001b[1;32mfrom\u001b[0m \u001b[0mpycuda\u001b[0m\u001b[1;33m.\u001b[0m\u001b[0mdriver\u001b[0m \u001b[1;32mimport\u001b[0m \u001b[0mmodule_from_buffer\u001b[0m\u001b[1;33m\u001b[0m\u001b[0m\n",
      "\u001b[1;32mD:\\Anaconda\\envs\\hetero\\lib\\site-packages\\pycuda\\compiler.pyc\u001b[0m in \u001b[0;36mcompile\u001b[1;34m(source, nvcc, options, keep, no_extern_c, arch, code, cache_dir, include_dirs, target)\u001b[0m\n\u001b[0;32m    253\u001b[0m         \u001b[0moptions\u001b[0m\u001b[1;33m.\u001b[0m\u001b[0mappend\u001b[0m\u001b[1;33m(\u001b[0m\u001b[1;34m\"-I\"\u001b[0m\u001b[1;33m+\u001b[0m\u001b[0mi\u001b[0m\u001b[1;33m)\u001b[0m\u001b[1;33m\u001b[0m\u001b[0m\n\u001b[0;32m    254\u001b[0m \u001b[1;33m\u001b[0m\u001b[0m\n\u001b[1;32m--> 255\u001b[1;33m     \u001b[1;32mreturn\u001b[0m \u001b[0mcompile_plain\u001b[0m\u001b[1;33m(\u001b[0m\u001b[0msource\u001b[0m\u001b[1;33m,\u001b[0m \u001b[0moptions\u001b[0m\u001b[1;33m,\u001b[0m \u001b[0mkeep\u001b[0m\u001b[1;33m,\u001b[0m \u001b[0mnvcc\u001b[0m\u001b[1;33m,\u001b[0m \u001b[0mcache_dir\u001b[0m\u001b[1;33m,\u001b[0m \u001b[0mtarget\u001b[0m\u001b[1;33m)\u001b[0m\u001b[1;33m\u001b[0m\u001b[0m\n\u001b[0m\u001b[0;32m    256\u001b[0m \u001b[1;33m\u001b[0m\u001b[0m\n\u001b[0;32m    257\u001b[0m \u001b[1;32mclass\u001b[0m \u001b[0mCudaModule\u001b[0m\u001b[1;33m(\u001b[0m\u001b[0mobject\u001b[0m\u001b[1;33m)\u001b[0m\u001b[1;33m:\u001b[0m\u001b[1;33m\u001b[0m\u001b[0m\n",
      "\u001b[1;32mD:\\Anaconda\\envs\\hetero\\lib\\site-packages\\pycuda\\compiler.pyc\u001b[0m in \u001b[0;36mcompile_plain\u001b[1;34m(source, options, keep, nvcc, cache_dir, target)\u001b[0m\n\u001b[0;32m    135\u001b[0m         raise CompileError(\"nvcc compilation of %s failed\" % cu_file_path,\n\u001b[0;32m    136\u001b[0m                 \u001b[0mcmdline\u001b[0m\u001b[1;33m,\u001b[0m \u001b[0mstdout\u001b[0m\u001b[1;33m=\u001b[0m\u001b[0mstdout\u001b[0m\u001b[1;33m.\u001b[0m\u001b[0mdecode\u001b[0m\u001b[1;33m(\u001b[0m\u001b[1;34m\"utf-8\"\u001b[0m\u001b[1;33m,\u001b[0m \u001b[1;34m\"replace\"\u001b[0m\u001b[1;33m)\u001b[0m\u001b[1;33m,\u001b[0m\u001b[1;33m\u001b[0m\u001b[0m\n\u001b[1;32m--> 137\u001b[1;33m                 stderr=stderr.decode(\"utf-8\", \"replace\"))\n\u001b[0m\u001b[0;32m    138\u001b[0m \u001b[1;33m\u001b[0m\u001b[0m\n\u001b[0;32m    139\u001b[0m     \u001b[1;32mif\u001b[0m \u001b[0mstdout\u001b[0m \u001b[1;32mor\u001b[0m \u001b[0mstderr\u001b[0m\u001b[1;33m:\u001b[0m\u001b[1;33m\u001b[0m\u001b[0m\n",
      "\u001b[1;31m<type 'str'>\u001b[0m: (<type 'exceptions.UnicodeEncodeError'>, UnicodeEncodeError('ascii', u'nvcc compilation of c:\\\\users\\\\xsy88\\\\appdata\\\\local\\\\temp\\\\tmpgjmmpq\\\\kernel.cu failed\\n[command: nvcc --cubin -arch sm_61 -m64 -Id:\\\\anaconda\\\\envs\\\\hetero\\\\lib\\\\site-packages\\\\pycuda\\\\cuda kernel.cu]\\n[stdout:\\nkernel.cu\\r\\n]\\n[stderr:\\nc:\\\\program files\\\\nvidia gpu computing toolkit\\\\cuda\\\\v9.2\\\\include\\\\crt\\\\math_functions.h: warning C4819: \\ufffd\\ufffd\\ufffd\\u013c\\ufffd\\ufffd\\ufffd\\ufffd\\ufffd\\ufffd\\ufffd\\ufffd\\ufffd\\ufffd\\u06b5\\ufffd\\u01f0\\ufffd\\ufffd\\ufffd\\ufffd\\u04b3(936)\\ufffd\\u0431\\ufffd\\u02be\\ufffd\\ufffd\\ufffd\\u05b7\\ufffd\\ufffd\\ufffd\\ufffd\\ubf6b\\ufffd\\ufffd\\ufffd\\u013c\\ufffd\\ufffd\\ufffd\\ufffd\\ufffd\\u03aa Unicode \\ufffd\\ufffd\\u02bd\\ufffd\\u0537\\ufffd\\u05b9\\ufffd\\ufffd\\ufffd\\u0776\\ufffd\\u02a7\\r\\nc:\\\\program files\\\\nvidia gpu computing toolkit\\\\cuda\\\\v9.2\\\\include\\\\crt\\\\math_functions.h(830): warning C4819: \\ufffd\\ufffd\\ufffd\\u013c\\ufffd\\ufffd\\ufffd\\ufffd\\ufffd\\ufffd\\ufffd\\ufffd\\ufffd\\ufffd\\u06b5\\ufffd\\u01f0\\ufffd\\ufffd\\ufffd\\ufffd\\u04b3(936)\\ufffd\\u0431\\ufffd\\u02be\\ufffd\\ufffd\\ufffd\\u05b7\\ufffd\\ufffd\\ufffd\\ufffd\\ubf6b\\ufffd\\ufffd\\ufffd\\u013c\\ufffd\\ufffd\\ufffd\\ufffd\\ufffd\\u03aa Unicode \\ufffd\\ufffd\\u02bd\\ufffd\\u0537\\ufffd\\u05b9\\ufffd\\ufffd\\ufffd\\u0776\\ufffd\\u02a7\\r\\nc:\\\\program files\\\\nvidia gpu computing toolkit\\\\cuda\\\\v9.2\\\\include\\\\crt\\\\math_functions.h(1768): warning C4819: \\ufffd\\ufffd\\ufffd\\u013c\\ufffd\\ufffd\\ufffd\\ufffd\\ufffd\\ufffd\\ufffd\\ufffd\\ufffd\\ufffd\\u06b5\\ufffd\\u01f0\\ufffd\\ufffd\\ufffd\\ufffd\\u04b3(936)\\ufffd\\u0431\\ufffd\\u02be\\ufffd\\ufffd\\ufffd\\u05b7\\ufffd\\ufffd\\ufffd\\ufffd\\ubf6b\\ufffd\\ufffd\\ufffd\\u013c\\ufffd\\ufffd\\ufffd\\ufffd\\ufffd\\u03aa Unicode \\ufffd\\ufffd\\u02bd\\ufffd\\u0537\\ufffd\\u05b9\\ufffd\\ufffd\\ufffd\\u0776\\ufffd\\u02a7\\r\\nc:\\\\program files\\\\nvidia gpu computing toolkit\\\\cuda\\\\v9.2\\\\include\\\\crt\\\\math_functions.h(2623): warning C4819: \\ufffd\\ufffd\\ufffd\\u013c\\ufffd\\ufffd\\ufffd\\ufffd\\ufffd\\ufffd\\ufffd\\ufffd\\ufffd\\ufffd\\u06b5\\ufffd\\u01f0\\ufffd\\ufffd\\ufffd\\ufffd\\u04b3(936)\\ufffd\\u0431\\ufffd\\u02be\\ufffd\\ufffd\\ufffd\\u05b7\\ufffd\\ufffd\\ufffd\\ufffd\\ubf6b\\ufffd\\ufffd\\ufffd\\u013c\\ufffd\\ufffd\\ufffd\\ufffd\\ufffd\\u03aa Unicode \\ufffd\\ufffd\\u02bd\\ufffd\\u0537\\ufffd\\u05b9\\ufffd\\ufffd\\ufffd\\u0776\\ufffd\\u02a7\\r\\nc:\\\\program files\\\\nvidia gpu computing toolkit\\\\cuda\\\\v9.2\\\\include\\\\crt\\\\math_functions.h(3461): warning C4819: \\ufffd\\ufffd\\ufffd\\u013c\\ufffd\\ufffd\\ufffd\\ufffd\\ufffd\\ufffd\\ufffd\\ufffd\\ufffd\\ufffd\\u06b5\\ufffd\\u01f0\\ufffd\\ufffd\\ufffd\\ufffd\\u04b3(936)\\ufffd\\u0431\\ufffd\\u02be\\ufffd\\ufffd\\ufffd\\u05b7\\ufffd\\ufffd\\ufffd\\ufffd\\ubf6b\\ufffd\\ufffd\\ufffd\\u013c\\ufffd\\ufffd\\ufffd\\ufffd\\ufffd\\u03aa Unicode \\ufffd\\ufffd\\u02bd\\ufffd\\u0537\\ufffd\\u05b9\\ufffd\\ufffd\\ufffd\\u0776\\ufffd\\u02a7\\r\\nc:\\\\program files\\\\nvidia gpu computing toolkit\\\\cuda\\\\v9.2\\\\include\\\\crt\\\\math_functions.h(4410): warning C4819: \\ufffd\\ufffd\\ufffd\\u013c\\ufffd\\ufffd\\ufffd\\ufffd\\ufffd\\ufffd\\ufffd\\ufffd\\ufffd\\ufffd\\u06b5\\ufffd\\u01f0\\ufffd\\ufffd\\ufffd\\ufffd\\u04b3(936)\\ufffd\\u0431\\ufffd\\u02be\\ufffd\\ufffd\\ufffd\\u05b7\\ufffd\\ufffd\\ufffd\\ufffd\\ubf6b\\ufffd\\ufffd\\ufffd\\u013c\\ufffd\\ufffd\\ufffd\\ufffd\\ufffd\\u03aa Unicode \\ufffd\\ufffd\\u02bd\\ufffd\\u0537\\ufffd\\u05b9\\ufffd\\ufffd\\ufffd\\u0776\\ufffd\\u02a7\\r\\nc:\\\\program files\\\\nvidia gpu computing toolkit\\\\cuda\\\\v9.2\\\\include\\\\crt\\\\math_functions.h(5308): warning C4819: \\ufffd\\ufffd\\ufffd\\u013c\\ufffd\\ufffd\\ufffd\\ufffd\\ufffd\\ufffd\\ufffd\\ufffd\\ufffd\\ufffd\\u06b5\\ufffd\\u01f0\\ufffd\\ufffd\\ufffd\\ufffd\\u04b3(936)\\ufffd\\u0431\\ufffd\\u02be\\ufffd\\ufffd\\ufffd\\u05b7\\ufffd\\ufffd\\ufffd\\ufffd\\ubf6b\\ufffd\\ufffd\\ufffd\\u013c\\ufffd\\ufffd\\ufffd\\ufffd\\ufffd\\u03aa Unicode \\ufffd\\ufffd\\u02bd\\ufffd\\u0537\\ufffd\\u05b9\\ufffd\\ufffd\\ufffd\\u0776\\ufffd\\u02a7\\r\\nc:\\\\program files\\\\nvidia gpu computing toolkit\\\\cuda\\\\v9.2\\\\include\\\\crt\\\\math_functions.h(6216): warning C4819: \\ufffd\\ufffd\\ufffd\\u013c\\ufffd\\ufffd\\ufffd\\ufffd\\ufffd\\ufffd\\ufffd\\ufffd\\ufffd\\ufffd\\u06b5\\ufffd\\u01f0\\ufffd\\ufffd\\ufffd\\ufffd\\u04b3(936)\\ufffd\\u0431\\ufffd\\u02be\\ufffd\\ufffd\\ufffd\\u05b7\\ufffd\\ufffd\\ufffd\\ufffd\\ubf6b\\ufffd\\ufffd\\ufffd\\u013c\\ufffd\\ufffd\\ufffd\\ufffd\\ufffd\\u03aa Unicode \\ufffd\\ufffd\\u02bd\\ufffd\\u0537\\ufffd\\u05b9\\ufffd\\ufffd\\ufffd\\u0776\\ufffd\\u02a7\\r\\nc:\\\\program files\\\\nvidia gpu computing toolkit\\\\cuda\\\\v9.2\\\\include\\\\crt\\\\math_functions.h(7096): warning C4819: \\ufffd\\ufffd\\ufffd\\u013c\\ufffd\\ufffd\\ufffd\\ufffd\\ufffd\\ufffd\\ufffd\\ufffd\\ufffd\\ufffd\\u06b5\\ufffd\\u01f0\\ufffd\\ufffd\\ufffd\\ufffd\\u04b3(936)\\ufffd\\u0431\\ufffd\\u02be\\ufffd\\ufffd\\ufffd\\u05b7\\ufffd\\ufffd\\ufffd\\ufffd\\ubf6b\\ufffd\\ufffd\\ufffd\\u013c\\ufffd\\ufffd\\ufffd\\ufffd\\ufffd\\u03aa Unicode \\ufffd\\ufffd\\u02bd\\ufffd\\u0537\\ufffd\\u05b9\\ufffd\\ufffd\\ufffd\\u0776\\ufffd\\u02a7\\r\\nc:\\\\program files\\\\nvidia gpu computing toolkit\\\\cuda\\\\v9.2\\\\include\\\\crt\\\\math_functions.h(7900): warning C4819: \\ufffd\\ufffd\\ufffd\\u013c\\ufffd\\ufffd\\ufffd\\ufffd\\ufffd\\ufffd\\ufffd\\ufffd\\ufffd\\ufffd\\u06b5\\ufffd\\u01f0\\ufffd\\ufffd\\ufffd\\ufffd\\u04b3(936)\\ufffd\\u0431\\ufffd\\u02be\\ufffd\\ufffd\\ufffd\\u05b7\\ufffd\\ufffd\\ufffd\\ufffd\\ubf6b\\ufffd\\ufffd\\ufffd\\u013c\\ufffd\\ufffd\\ufffd\\ufffd\\ufffd\\u03aa Unicode \\ufffd\\ufffd\\u02bd\\ufffd\\u0537\\ufffd\\u05b9\\ufffd\\ufffd\\ufffd\\u0776\\ufffd\\u02a7\\r\\nc:\\\\program files\\\\nvidia gpu computing toolkit\\\\cuda\\\\v9.2\\\\include\\\\crt/device_functions.h: warning C4819: \\ufffd\\ufffd\\ufffd\\u013c\\ufffd\\ufffd\\ufffd\\ufffd\\ufffd\\ufffd\\ufffd\\ufffd\\ufffd\\ufffd\\u06b5\\ufffd\\u01f0\\ufffd\\ufffd\\ufffd\\ufffd\\u04b3(936)\\ufffd\\u0431\\ufffd\\u02be\\ufffd\\ufffd\\ufffd\\u05b7\\ufffd\\ufffd\\ufffd\\ufffd\\ubf6b\\ufffd\\ufffd\\ufffd\\u013c\\ufffd\\ufffd\\ufffd\\ufffd\\ufffd\\u03aa Unicode \\ufffd\\ufffd\\u02bd\\ufffd\\u0537\\ufffd\\u05b9\\ufffd\\ufffd\\ufffd\\u0776\\ufffd\\u02a7\\r\\nc:\\\\program files\\\\nvidia gpu computing toolkit\\\\cuda\\\\v9.2\\\\include\\\\crt/device_functions.h(775): warning C4819: \\ufffd\\ufffd\\ufffd\\u013c\\ufffd\\ufffd\\ufffd\\ufffd\\ufffd\\ufffd\\ufffd\\ufffd\\ufffd\\ufffd\\u06b5\\ufffd\\u01f0\\ufffd\\ufffd\\ufffd\\ufffd\\u04b3(936)\\ufffd\\u0431\\ufffd\\u02be\\ufffd\\ufffd\\ufffd\\u05b7\\ufffd\\ufffd\\ufffd\\ufffd\\ubf6b\\ufffd\\ufffd\\ufffd\\u013c\\ufffd\\ufffd\\ufffd\\ufffd\\ufffd\\u03aa Unicode \\ufffd\\ufffd\\u02bd\\ufffd\\u0537\\ufffd\\u05b9\\ufffd\\ufffd\\ufffd\\u0776\\ufffd\\u02a7\\r\\nc:\\\\program files\\\\nvidia gpu computing toolkit\\\\cuda\\\\v9.2\\\\include\\\\crt/device_functions.h(1635): warning C4819: \\ufffd\\ufffd\\ufffd\\u013c\\ufffd\\ufffd\\ufffd\\ufffd\\ufffd\\ufffd\\ufffd\\ufffd\\ufffd\\ufffd\\u06b5\\ufffd\\u01f0\\ufffd\\ufffd\\ufffd\\ufffd\\u04b3(936)\\ufffd\\u0431\\ufffd\\u02be\\ufffd\\ufffd\\ufffd\\u05b7\\ufffd\\ufffd\\ufffd\\ufffd\\ubf6b\\ufffd\\ufffd\\ufffd\\u013c\\ufffd\\ufffd\\ufffd\\ufffd\\ufffd\\u03aa Unicode \\ufffd\\ufffd\\u02bd\\ufffd\\u0537\\ufffd\\u05b9\\ufffd\\ufffd\\ufffd\\u0776\\ufffd\\u02a7\\r\\nc:\\\\program files\\\\nvidia gpu computing toolkit\\\\cuda\\\\v9.2\\\\include\\\\crt\\\\device_double_functions.h: warning C4819: \\ufffd\\ufffd\\ufffd\\u013c\\ufffd\\ufffd\\ufffd\\ufffd\\ufffd\\ufffd\\ufffd\\ufffd\\ufffd\\ufffd\\u06b5\\ufffd\\u01f0\\ufffd\\ufffd\\ufffd\\ufffd\\u04b3(936)\\ufffd\\u0431\\ufffd\\u02be\\ufffd\\ufffd\\ufffd\\u05b7\\ufffd\\ufffd\\ufffd\\ufffd\\ubf6b\\ufffd\\ufffd\\ufffd\\u013c\\ufffd\\ufffd\\ufffd\\ufffd\\ufffd\\u03aa Unicode \\ufffd\\ufffd\\u02bd\\ufffd\\u0537\\ufffd\\u05b9\\ufffd\\ufffd\\ufffd\\u0776\\ufffd\\u02a7\\r\\nc:\\\\program files\\\\nvidia gpu computing toolkit\\\\cuda\\\\v9.2\\\\include\\\\sm_20_intrinsics.h: warning C4819: \\ufffd\\ufffd\\ufffd\\u013c\\ufffd\\ufffd\\ufffd\\ufffd\\ufffd\\ufffd\\ufffd\\ufffd\\ufffd\\ufffd\\u06b5\\ufffd\\u01f0\\ufffd\\ufffd\\ufffd\\ufffd\\u04b3(936)\\ufffd\\u0431\\ufffd\\u02be\\ufffd\\ufffd\\ufffd\\u05b7\\ufffd\\ufffd\\ufffd\\ufffd\\ubf6b\\ufffd\\ufffd\\ufffd\\u013c\\ufffd\\ufffd\\ufffd\\ufffd\\ufffd\\u03aa Unicode \\ufffd\\ufffd\\u02bd\\ufffd\\u0537\\ufffd\\u05b9\\ufffd\\ufffd\\ufffd\\u0776\\ufffd\\u02a7\\r\\nc:\\\\program files\\\\nvidia gpu computing toolkit\\\\cuda\\\\v9.2\\\\include\\\\sm_20_intrinsics.h(924): warning C4819: \\ufffd\\ufffd\\ufffd\\u013c\\ufffd\\ufffd\\ufffd\\ufffd\\ufffd\\ufffd\\ufffd\\ufffd\\ufffd\\ufffd\\u06b5\\ufffd\\u01f0\\ufffd\\ufffd\\ufffd\\ufffd\\u04b3(936)\\ufffd\\u0431\\ufffd\\u02be\\ufffd\\ufffd\\ufffd\\u05b7\\ufffd\\ufffd\\ufffd\\ufffd\\ubf6b\\ufffd\\ufffd\\ufffd\\u013c\\ufffd\\ufffd\\ufffd\\ufffd\\ufffd\\u03aa Unicode \\ufffd\\ufffd\\u02bd\\ufffd\\u0537\\ufffd\\u05b9\\ufffd\\ufffd\\ufffd\\u0776\\ufffd\\u02a7\\r\\nkernel.cu(56): error: expected a \";\"\\r\\n\\r\\nkernel.cu(77): warning: parsing restarts here after previous syntax error\\r\\n\\r\\nkernel.cu(102): warning: variable \"t\" is used before its value is set\\r\\n\\r\\nkernel.cu(105): warning: variable \"hit_point1\" is used before its value is set\\r\\n\\r\\nkernel.cu(32): warning: variable \"ray_array_index\" was declared but never referenced\\r\\n\\r\\nkernel.cu(33): warning: variable \"output_index\" was declared but never referenced\\r\\n\\r\\nkernel.cu(37): warning: variable \"current_obj_i\" was set but never used\\r\\n\\r\\nkernel.cu(39): warning: variable \"l1\" was declared but never referenced\\r\\n\\r\\nkernel.cu(39): warning: variable \"l2\" was declared but never referenced\\r\\n\\r\\nkernel.cu(39): warning: variable \"l3\" was declared but never referenced\\r\\n\\r\\nkernel.cu(40): warning: variable \"t_ca\" was declared but never referenced\\r\\n\\r\\nkernel.cu(41): warning: variable \"d_squared\" was declared but never referenced\\r\\n\\r\\nkernel.cu(42): warning: variable \"radius_squared\" was declared but never referenced\\r\\n\\r\\nkernel.cu(43): warning: variable \"t_hc\" was declared but never referenced\\r\\n\\r\\nkernel.cu(114): error: this declaration has no storage class or type specifier\\r\\n\\r\\nkernel.cu(114): error: identifier \"current_obj_i\" is undefined\\r\\n\\r\\nkernel.cu(122): error: expected a declaration\\r\\n\\r\\n4 errors detected in the compilation of \"C:/Users/xsy88/AppData/Local/Temp/tmpxft_00012f64_00000000-10_kernel.cpp1.ii\".\\r\\n]', 320, 342, 'ordinal not in range(128)'))"
     ]
    }
   ],
   "source": [
    "from tracer_gpu import Tracer_gpu\n",
    "\n",
    "tracer = Tracer_gpu()\n",
    "\n",
    "rendered_tile = {}\n",
    "ray_array = []\n",
    "ray_from_array = []\n",
    "for y in range(0, 5):\n",
    "    for x in range(0, 5):\n",
    "        sum_color = Vector3()\n",
    "        # sampled_rays = 0\n",
    "        ray = camera.calcRay(x, y, width, height)\n",
    "        ray_array.append([ray.origin, ray.direction, ray.current_ior])\n",
    "        ray_from_array.append([x, y])\n",
    "        # for ss_x in range(-super_sampling + 1, super_sampling):\n",
    "        #     for ss_y in range(-super_sampling + 1, super_sampling):\n",
    "        #         ray = camera.calcRay(x + ss_x, y + ss_y, width, height)\n",
    "        #         sum_color += tracer.trace(ray, scene)\n",
    "        #         sampled_rays += 1\n",
    "        # rendered_tile[x, y] = sum_color * (1 / sampled_rays)\n",
    "\n",
    "print tracer.trace\n",
    "rendered_tile = tracer.trace(ray_array, ray_from_array, scene)"
   ]
  },
  {
   "cell_type": "code",
   "execution_count": null,
   "metadata": {},
   "outputs": [],
   "source": []
  }
 ],
 "metadata": {
  "kernelspec": {
   "display_name": "Python 2",
   "language": "python",
   "name": "python2"
  },
  "language_info": {
   "codemirror_mode": {
    "name": "ipython",
    "version": 2
   },
   "file_extension": ".py",
   "mimetype": "text/x-python",
   "name": "python",
   "nbconvert_exporter": "python",
   "pygments_lexer": "ipython2",
   "version": "2.7.15"
  }
 },
 "nbformat": 4,
 "nbformat_minor": 2
}
